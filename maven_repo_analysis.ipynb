{
 "cells": [
  {
   "cell_type": "code",
   "execution_count": 19,
   "id": "4a567ae28e945679",
   "metadata": {
    "ExecuteTime": {
     "end_time": "2024-01-26T13:51:53.805150300Z",
     "start_time": "2024-01-26T13:51:53.788985Z"
    }
   },
   "outputs": [],
   "source": [
    "import re\n",
    "import pandas as pd\n",
    "import numpy as np\n",
    "import seaborn as sns\n",
    "import matplotlib\n",
    "import matplotlib.ticker as ticker\n",
    "import matplotlib.pyplot as plt\n",
    "from urllib.parse import urlparse\n",
    "from scipy.stats import pearsonr\n",
    "from scipy import stats\n",
    "from matplotlib.ticker import FormatStrFormatter\n",
    "import matplotlib.ticker as ticker"
   ]
  },
  {
   "cell_type": "markdown",
   "id": "85257ab0414d3228",
   "metadata": {},
   "source": [
    "# Load data"
   ]
  },
  {
   "cell_type": "code",
   "execution_count": 20,
   "id": "b2eeee81b5706fcc",
   "metadata": {
    "ExecuteTime": {
     "end_time": "2024-01-26T13:52:22.553697400Z",
     "start_time": "2024-01-26T13:52:22.472351Z"
    }
   },
   "outputs": [
    {
     "name": "stderr",
     "output_type": "stream",
     "text": [
      "C:\\Users\\jacob\\AppData\\Local\\Temp\\ipykernel_12260\\2805030735.py:1: DtypeWarning: Columns (12) have mixed types. Specify dtype option on import or set low_memory=False.\n",
      "  all_poms_before_sampling = pd.read_csv(\"data/all_poms_before_sampling.csv\")\n",
      "C:\\Users\\jacob\\AppData\\Local\\Temp\\ipykernel_12260\\2805030735.py:2: DtypeWarning: Columns (5,6,7,8) have mixed types. Specify dtype option on import or set low_memory=False.\n",
      "  all_repos_before_sampling = pd.read_csv(\"data/all_repos_before_sampling.csv\")\n"
     ]
    }
   ],
   "source": [
    "all_poms_before_sampling = pd.read_csv(\"data/all_poms_before_sampling.csv\")\n",
    "all_repos_before_sampling = pd.read_csv(\"data/all_repos_before_sampling.csv\")"
   ]
  },
  {
   "cell_type": "markdown",
   "id": "88b2dbb632f66e23",
   "metadata": {},
   "source": [
    "## Random Sampling and removing duplicates"
   ]
  },
  {
   "cell_type": "code",
   "execution_count": 21,
   "id": "1e099eb87c25d466",
   "metadata": {},
   "outputs": [
    {
     "name": "stdout",
     "output_type": "stream",
     "text": [
      "all_poms: 934266 -> 199188\n"
     ]
    }
   ],
   "source": [
    "all_poms = all_poms_before_sampling.copy()\n",
    "l_all_poms = len(all_poms)\n",
    "\n",
    "random_seed = 42\n",
    "np.random.seed(random_seed)\n",
    "\n",
    "# Shuffle the DataFrame randomly\n",
    "all_poms = all_poms.sample(frac=1).reset_index(drop=True)\n",
    "\n",
    "# Remove duplicates from poms to only mantain one version of each package\n",
    "all_poms = all_poms.drop_duplicates(subset=['groupId', 'artifactId'])\n",
    "\n",
    "# Reset the index of the deduplicated DataFrame\n",
    "all_poms.reset_index(drop=True, inplace=True)\n",
    "\n",
    "print(\"all_poms: \" + str(l_all_poms) + \" -> \" + str(len(all_poms)))\n",
    "\n",
    "# only take rows that are later than or in 2016 \n",
    "all_poms['releaseDate'] = pd.to_datetime(all_poms['releaseDate'])\n",
    "all_poms = all_poms[all_poms['releaseDate'].dt.year >= 2016]\n",
    "\n",
    "# Save the DataFrame to a CSV file\n",
    "all_poms.to_csv('data/all_poms.csv', index=False)"
   ]
  },
  {
   "cell_type": "code",
   "execution_count": 22,
   "id": "969424e68378a2ae",
   "metadata": {},
   "outputs": [
    {
     "name": "stdout",
     "output_type": "stream",
     "text": [
      "all_repos: 157387 -> 16781\n"
     ]
    }
   ],
   "source": [
    "all_repos = all_repos_before_sampling.copy()\n",
    "l_all_repos = len(all_repos)\n",
    "\n",
    "# Drop duplicates from repos\n",
    "all_repos = all_repos.drop_duplicates(subset=['id', 'pomId', 'name', 'url'])\n",
    "all_repos = all_repos[all_repos['pomId'].isin(all_poms['id'])]\n",
    "\n",
    "print(\"all_repos: \" + str(l_all_repos) + \" -> \" + str(len(all_repos)))\n",
    "\n",
    "# Save the DataFrame to a CSV file\n",
    "all_repos.to_csv('data/all_repos.csv', index=False)"
   ]
  },
  {
   "cell_type": "code",
   "execution_count": 23,
   "id": "8bad9c57b0aed4cc",
   "metadata": {},
   "outputs": [
    {
     "name": "stdout",
     "output_type": "stream",
     "text": [
      "all_poms_repos: 16781\n"
     ]
    }
   ],
   "source": [
    "# <erge poms and repos and name the id of left id_pom and id_repo\n",
    "all_poms_repos = pd.merge(all_poms, all_repos, left_on='id', right_on='pomId', how='inner')\n",
    "all_poms_repos = all_poms_repos.rename(columns={'id_x': 'id_pom', 'id_y': 'id_repo'})\n",
    "all_poms_repos = all_poms_repos.rename(columns={'url_x': 'url_pom', 'url_y': 'url_repo'})\n",
    "\n",
    "print(\"all_poms_repos: \" + str(len(all_poms_repos)))"
   ]
  },
  {
   "cell_type": "markdown",
   "id": "4d6f1d44b5d7d5e5",
   "metadata": {},
   "source": [
    "# Showing the distribution of the data"
   ]
  },
  {
   "cell_type": "code",
   "execution_count": 24,
   "id": "41fd4e91cbe3fcbf",
   "metadata": {
    "ExecuteTime": {
     "end_time": "2024-01-22T10:35:40.197931200Z",
     "start_time": "2024-01-22T10:35:40.193419700Z"
    }
   },
   "outputs": [
    {
     "name": "stdout",
     "output_type": "stream",
     "text": [
      "   releaseDate  count\n",
      "0         2016  23701\n",
      "1         2017  21406\n",
      "2         2018  24571\n",
      "3         2019  31089\n",
      "4         2020  19561\n",
      "5         2021  21559\n",
      "6         2022  23481\n",
      "7         2023  33815\n"
     ]
    },
    {
     "data": {
      "image/png": "[encoded data removed]",
      "text/plain": [
       "<Figure size 350x200 with 1 Axes>"
      ]
     },
     "metadata": {},
     "output_type": "display_data"
    }
   ],
   "source": [
    "df = all_poms.copy()\n",
    "df['releaseDate'] = pd.to_datetime(df['releaseDate'])\n",
    "\n",
    "# Group by year and count the rows\n",
    "yearly_counts_v2 = df.groupby(df['releaseDate'].dt.year).size().reset_index(name='count')\n",
    "\n",
    "# Display the result\n",
    "print(yearly_counts_v2)\n",
    "\n",
    "plt.figure(figsize=(3.5, 2))\n",
    "ax = sns.barplot(x=\"releaseDate\", y=\"count\", data=yearly_counts_v2, palette='viridis')\n",
    "ax.set_xticklabels(ax.get_xticklabels(), rotation=45, horizontalalignment='right', fontsize=8)\n",
    "plt.xticks(fontsize=8)\n",
    "plt.yticks(fontsize=8)\n",
    "ax.yaxis.set_major_formatter(ticker.FuncFormatter(lambda x, pos: '{:,.0f}'.format(x/1000)))\n",
    "plt.xlabel('Year', fontsize=8)\n",
    "plt.ylabel('Number of Packages (x1000)', fontsize=8)\n",
    "plt.show()"
   ]
  },
  {
   "cell_type": "markdown",
   "id": "9ed1526765775d18",
   "metadata": {},
   "source": [
    "# Average packages with at least 1 repository per year"
   ]
  },
  {
   "cell_type": "code",
   "execution_count": 25,
   "id": "3b6df3e643e4eacf",
   "metadata": {},
   "outputs": [
    {
     "name": "stdout",
     "output_type": "stream",
     "text": [
      "Poms this year: 23701, repos this year: 1199\n",
      "Poms this year: 21406, repos this year: 1030\n",
      "Poms this year: 24571, repos this year: 1142\n",
      "Poms this year: 31089, repos this year: 1376\n",
      "Poms this year: 19561, repos this year: 958\n",
      "Poms this year: 21559, repos this year: 595\n",
      "Poms this year: 23481, repos this year: 910\n",
      "Poms this year: 33815, repos this year: 1067\n"
     ]
    },
    {
     "data": {
      "image/png": "[encoded data removed]",
      "text/plain": [
       "<Figure size 350x300 with 1 Axes>"
      ]
     },
     "metadata": {},
     "output_type": "display_data"
    },
    {
     "name": "stdout",
     "output_type": "stream",
     "text": [
      "Pearsons correlation: -0.911 p-value:  0.001647937629582066\n"
     ]
    }
   ],
   "source": [
    "def calc_at_least_one_repo_percentage(repos, size):\n",
    "    maven_central_urls = ['https://repo.maven.apache.org/maven2', 'https://repo1.maven.org/maven2', 'http://repo.maven.apache.org/maven2', 'http://repo1.maven.org/maven2']\n",
    "\n",
    "    # Group by groupId and artifactId\n",
    "    grouped = repos.groupby(['groupId', 'artifactId'])\n",
    "    print(f\"Poms this year: {size}, repos this year: {len(grouped)}\")\n",
    "    # Initialize count of packages with at least one non-central repo\n",
    "    count = 0\n",
    "\n",
    "    # Iterate over each group\n",
    "    for _, group in grouped:\n",
    "        # Create a mask for rows where 'url_repo' is not in 'maven_central_urls'\n",
    "        mask = ~group['url_repo'].isin(maven_central_urls)\n",
    "        \n",
    "        # Apply the mask to 'package_group_data' and select 'url_repo' column\n",
    "        filtered_repos = group.loc[mask, 'url_repo']\n",
    "           \n",
    "        # Count the number of unique repositories\n",
    "        unique_repos = filtered_repos.nunique()\n",
    "        \n",
    "        # If there is more than one unique repo, increment the count\n",
    "        if unique_repos >= 1:\n",
    "            count += 1\n",
    "            \n",
    "    percentage = (count / size) * 100\n",
    "    return percentage\n",
    "\n",
    "# group all_poms_repos per year\n",
    "all_poms_repos['year'] = pd.to_datetime(all_poms_repos['releaseDate']).dt.year\n",
    "grouped = all_poms_repos.groupby('year')\n",
    "\n",
    "# group all poms per year\n",
    "all_poms['year'] = pd.to_datetime(all_poms['releaseDate']).dt.year\n",
    "grouped_poms = all_poms.groupby('year')\n",
    "\n",
    "years = {}\n",
    "\n",
    "# calculate percentage of packages with at least 1 repo per year\n",
    "for year, group in grouped:\n",
    "    # get size of poms per year\n",
    "    size = len(grouped_poms.get_group(year))\n",
    "    percentage = calc_at_least_one_repo_percentage(group, size)\n",
    "    years[year] = percentage\n",
    "    \n",
    "# Plotting\n",
    "plt.figure(figsize=(3.5, 3))\n",
    "plt.subplots_adjust(bottom=0.2)\n",
    "plt.plot(list(years.keys()), years.values(), label='Combined', color='#492c68', marker='o')\n",
    "plt.xticks(list(years.keys()), rotation=45, horizontalalignment='right', fontsize=8)\n",
    "plt.xticks(fontsize=8)\n",
    "plt.yticks(fontsize=8)\n",
    "plt.xlabel('Year', fontsize=8)\n",
    "plt.ylabel('Packages with at least 1 repository (%)', fontsize=8)\n",
    "plt.show()\n",
    "\n",
    "corr, p_val = pearsonr(list(years.keys()), list(years.values()))\n",
    "print('Pearsons correlation: %.3f' % corr, \"p-value: \", p_val)"
   ]
  },
  {
   "cell_type": "code",
   "execution_count": 26,
   "id": "f85ea3fa28eb851e",
   "metadata": {},
   "outputs": [
    {
     "name": "stdout",
     "output_type": "stream",
     "text": [
      "{2: 0.7169286535497507, 1: 1.8480492813141685, 3: 0.30374078109075575, 4: 0.12199836331413827, 7: 0.03413945969284527, 5: 0.09940607381152006, 6: 0.08183429308726146, 9: 0.04116817198254871, 8: 0.009036915801047278, 10: 0.03464151057068123}\n"
     ]
    },
    {
     "data": {
      "image/png": "[encoded data removed]",
      "text/plain": [
       "<Figure size 350x200 with 1 Axes>"
      ]
     },
     "metadata": {},
     "output_type": "display_data"
    }
   ],
   "source": [
    "def calc_and_plot_exact_repo_percentage(repos):\n",
    "    maven_central_urls = ['https://repo.maven.apache.org/maven2', 'https://repo1.maven.org/maven2', 'http://repo.maven.apache.org/maven2', 'http://repo1.maven.org/maven2']\n",
    "\n",
    "    grouped = repos.groupby(['groupId', 'artifactId'])\n",
    "\n",
    "    repo_counts = {}\n",
    "\n",
    "    for _, group in grouped:\n",
    "        mask = ~group['url_repo'].isin(maven_central_urls)\n",
    "        filtered_repos = group.loc[mask, 'url_repo']\n",
    "        unique_repos = filtered_repos.nunique()\n",
    "\n",
    "        if unique_repos in repo_counts:\n",
    "            repo_counts[unique_repos] += 1\n",
    "        else:\n",
    "            repo_counts[unique_repos] = 1\n",
    "\n",
    "    total_packages = len(all_poms)\n",
    "    percentage_repos = {num_repos: (count / total_packages) * 100 for num_repos, count in repo_counts.items()}\n",
    "\n",
    "    plt.figure(figsize=(3.5, 2))\n",
    "    plt.subplots_adjust(bottom=0.2)\n",
    "\n",
    "    # only keep 0 till 10\n",
    "    percentage_repos = {k: v for k, v in percentage_repos.items() if k <= 10}\n",
    "    percentage_repos.pop(0, None)\n",
    "    print(percentage_repos)\n",
    "\n",
    "    bars = sns.barplot(x=list(percentage_repos.keys()), y=list(percentage_repos.values()), palette='viridis')\n",
    "    plt.ylim(0, 1.2 * max(percentage_repos.values()))\n",
    "    plt.xticks(fontsize=8)\n",
    "    plt.yticks(fontsize=8)\n",
    "    for bar in bars.patches:\n",
    "        yval = bar.get_height()\n",
    "        plt.text(bar.get_x() + bar.get_width()/2, yval + 0.05, f'{yval:.2f}%', ha='center', va='bottom', fontsize=6)\n",
    "\n",
    "    plt.xlabel('Number of Repositories Specified', fontsize=8)\n",
    "    plt.ylabel('Percentage of Packages', fontsize=8)\n",
    "\n",
    "    plt.xticks(range(10))  \n",
    "    ax = plt.gca()  \n",
    "    ax.xaxis.set_major_formatter(ticker.FuncFormatter(lambda x, pos: int(x + 1)))\n",
    "    plt.show()\n",
    "\n",
    "calc_and_plot_exact_repo_percentage(all_poms_repos)"
   ]
  },
  {
   "cell_type": "code",
   "execution_count": 27,
   "id": "c3f3e3aea8d89515",
   "metadata": {
    "ExecuteTime": {
     "end_time": "2024-01-22T10:40:33.208517100Z",
     "start_time": "2024-01-22T10:40:33.168030300Z"
    }
   },
   "outputs": [
    {
     "name": "stdout",
     "output_type": "stream",
     "text": [
      "Poms this year: 199183, repos this year: 8277\n",
      "Percentage of packages with at least one repo: 3.291947605970389\n"
     ]
    }
   ],
   "source": [
    "percentage_at_least_one_repo = calc_at_least_one_repo_percentage(all_poms_repos, len(all_poms))\n",
    "print(f\"Percentage of packages with at least one repo: {percentage_at_least_one_repo}\")"
   ]
  },
  {
   "cell_type": "markdown",
   "id": "24294377aa9f3a7b",
   "metadata": {},
   "source": [
    "# Do repository ids commonly change when new versions of the same package are released?"
   ]
  },
  {
   "cell_type": "code",
   "execution_count": 28,
   "id": "9e748f99b99e8d77",
   "metadata": {},
   "outputs": [
    {
     "name": "stdout",
     "output_type": "stream",
     "text": [
      "Percentage of groups with ID changes across versions: 0.6806385270786407%\n"
     ]
    }
   ],
   "source": [
    "def analyze_id_variations(repos):\n",
    "    # Group by groupId and artifactId\n",
    "    grouped = repos.groupby(['groupId', 'artifactId', 'url_y'])\n",
    "    changes_count = 0\n",
    "    total_groups = 0\n",
    "\n",
    "    for _, group in grouped:\n",
    "        total_groups += 1\n",
    "        # Check if there are variations in ID across different versions\n",
    "        if group['id_y'].nunique() > 1:\n",
    "            changes_count += 1\n",
    "\n",
    "    # Calculate the percentage of groups where IDs change\n",
    "    if total_groups > 0:\n",
    "        change_percentage = (changes_count / total_groups) * 100\n",
    "    else:\n",
    "        change_percentage = 0\n",
    "\n",
    "    return change_percentage\n",
    "\n",
    "merged_df = pd.merge(all_poms_before_sampling, all_repos_before_sampling, left_on='id', right_on='pomId', how='inner')\n",
    "\n",
    "# Call the function and print the result\n",
    "percentage_changes = analyze_id_variations(merged_df)\n",
    "print(f\"Percentage of groups with ID changes across versions: {percentage_changes}%\")"
   ]
  },
  {
   "cell_type": "code",
   "execution_count": 29,
   "id": "d34580cde9110626",
   "metadata": {},
   "outputs": [],
   "source": [
    "maven_errors = [\n",
    "    {\"issue\": \"Forbidden\", \"error_message\": \"Forbidden (403)\"},\n",
    "    {\"issue\": \"Blocked Mirror\", \"error_message\": \"Blocked mirror\"},\n",
    "    {\"issue\": \"Not found in Central\", \"error_message\": \"Could not find\"},\n",
    "    {\"issue\": \"Non-resolvable parent POM\", \"error_message\": \"Non-resolvable parent POM\"},\n",
    "    {\"issue\": \"Does not exist\", \"error_message\": \"does not exist\"},\n",
    "    {\"issue\": \"Unknown packaging\", \"error_message\": \" Unknown packaging\"},\n",
    "    {\"issue\": \"Connection refused\", \"error_message\": \"Connection refused\"} \n",
    "]\n",
    "\n",
    "\n",
    "def match_error_messages(dataset_msgs, predefined_errors):\n",
    "    # Initialize a dictionary to count occurrences of each issue\n",
    "    issue_counts = {error['issue']: 0 for error in predefined_errors}\n",
    "\n",
    "    for dataset_msg in dataset_msgs:\n",
    "        for error in predefined_errors:\n",
    "            if error['error_message'].lower() in dataset_msg.lower():\n",
    "                issue_counts[error['issue']] += 1\n",
    "\n",
    "    return issue_counts\n"
   ]
  },
  {
   "cell_type": "code",
   "execution_count": 30,
   "id": "1cdf0d619229d96d",
   "metadata": {},
   "outputs": [
    {
     "name": "stdout",
     "output_type": "stream",
     "text": [
      "1741\n"
     ]
    },
    {
     "data": {
      "image/png": "[encoded data removed]",
      "text/plain": [
       "<Figure size 350x300 with 1 Axes>"
      ]
     },
     "metadata": {},
     "output_type": "display_data"
    }
   ],
   "source": [
    "error_all_poms = all_poms.copy()\n",
    "error_all_poms['year'] = pd.to_datetime(error_all_poms['releaseDate']).dt.year\n",
    "error_all_poms.dropna(subset=['mavenErrorMessage'], inplace=True)\n",
    "\n",
    "print(len(error_all_poms))\n",
    "grouped =  error_all_poms.groupby('year')\n",
    "\n",
    "\n",
    "# calculate percentage of error types for each year\n",
    "issues_per_year = {}\n",
    "\n",
    "for year, group in grouped:\n",
    "    error_messages = group['mavenErrorMessage'].dropna()\n",
    "    issue_counts = match_error_messages(error_messages, maven_errors)\n",
    "    total_errors = sum(issue_counts.values())\n",
    "    \n",
    "    for issue in issue_counts:\n",
    "        issue_counts[issue] = issue_counts[issue] / total_errors * 100 if total_errors > 0 else 0\n",
    "    issues_per_year[year] = issue_counts\n",
    "    \n",
    "plot_issues = ['Connection refused']\n",
    "\n",
    "# plot the results\n",
    "plt.figure(figsize=(3.5, 3))\n",
    "\n",
    "for issue in plot_issues:\n",
    "    years = list(issues_per_year.keys())\n",
    "    percentages = [issues_per_year[year][issue] for year in years]\n",
    "    plt.plot(years, percentages, marker='o', color='#492c68', label=issue)   \n",
    "    \n",
    "plt.xticks(years, fontsize=8)\n",
    "plt.xticks(rotation=45, horizontalalignment='right')\n",
    "plt.xticks(fontsize=8)\n",
    "plt.yticks(fontsize=8)\n",
    "plt.xlabel('Year', fontsize=8)\n",
    "plt.ylabel('Percentage of Connection Refused Error', fontsize=8)\n",
    "plt.show()"
   ]
  },
  {
   "cell_type": "code",
   "execution_count": 31,
   "id": "3534e14e6e8fc82c",
   "metadata": {},
   "outputs": [
    {
     "name": "stdout",
     "output_type": "stream",
     "text": [
      "Percentage of packages that have an error: 0.8740705783124062%\n",
      "Percentage of packages with repositories that have an error: 0.8861538461538463%\n",
      "Percentage of packages without repositories that have an error: 0.8735704378320379%\n",
      "T-statistic: -0.1193421947180227\n",
      "P-value: 0.9050043761588642\n"
     ]
    }
   ],
   "source": [
    "# Calculate the percentage of packages that have an error\n",
    "total_packages = len(all_poms)\n",
    "poms_with_errors = all_poms.dropna(subset=['mavenErrorMessage'], inplace=False)\n",
    "packages_with_errors = len(poms_with_errors)\n",
    "percentage_with_errors = (packages_with_errors / total_packages) * 100\n",
    "\n",
    "print(f\"Percentage of packages that have an error: {percentage_with_errors}%\")\n",
    "\n",
    "# Filter the DataFrame to include only rows where repositoriesAmount is greater than or equal to 1\n",
    "packages_with_repos = all_poms[all_poms['repositoriesAmount'] >= 1].copy()\n",
    "\n",
    "# Count the number of packages that have one or more repositories\n",
    "num_packages_with_repos = len(packages_with_repos)\n",
    "\n",
    "# Filter the DataFrame to include only rows where mavenErrorMessage is not null\n",
    "packages_with_repos_and_errors = packages_with_repos.dropna(subset=['mavenErrorMessage'])\n",
    "\n",
    "# Count the number of packages that have one or more repositories and have an error\n",
    "num_packages_with_repos_and_errors = len(packages_with_repos_and_errors)\n",
    "\n",
    "percentage_packages_with_repos_with_error =  num_packages_with_repos_and_errors / num_packages_with_repos * 100\n",
    "\n",
    "print(f\"Percentage of packages with repositories that have an error: {percentage_packages_with_repos_with_error}%\")\n",
    "\n",
    "# Filter the DataFrame to include only rows where repositoriesAmount is 0\n",
    "packages_with_no_repos = all_poms[all_poms['repositoriesAmount'] == 0].copy()\n",
    "\n",
    "# Filter the DataFrame to include only rows where repositoriesAmount is greater than or equal to 1\n",
    "packages_with_repos = all_poms[all_poms['repositoriesAmount'] >= 1].copy()\n",
    "\n",
    "# Calculate the percentage of errors for packages with no repositories\n",
    "packages_with_no_repos['has_error'] = packages_with_no_repos['mavenErrorMessage'].notna()\n",
    "percentage_errors_no_repos = packages_with_no_repos['has_error'].mean()\n",
    "print(f\"Percentage of packages without repositories that have an error: {percentage_errors_no_repos*100}%\")\n",
    "\n",
    "# Calculate the percentage of errors for packages with repositories\n",
    "packages_with_repos['has_error'] = packages_with_repos['mavenErrorMessage'].notna()\n",
    "percentage_errors_with_repos = packages_with_repos['has_error'].mean()\n",
    "\n",
    "# Perform the t-test\n",
    "t_stat, p_val = stats.ttest_ind(packages_with_no_repos['has_error'], packages_with_repos['has_error'])\n",
    "\n",
    "print(f\"T-statistic: {t_stat}\")\n",
    "print(f\"P-value: {p_val}\")"
   ]
  },
  {
   "cell_type": "code",
   "execution_count": 32,
   "id": "4182231e0845d72b",
   "metadata": {},
   "outputs": [
    {
     "name": "stdout",
     "output_type": "stream",
     "text": [
      "Percentage of packages with repository URL in error message: 0.15493713127942316%\n"
     ]
    }
   ],
   "source": [
    "# Check for every row in in all_poms_repos whether the url_repo is in the error message\n",
    "def check_url_in_error(row):\n",
    "    if pd.isnull(row['mavenErrorMessage']):\n",
    "        return np.nan\n",
    "    elif row['url_repo'] in row['mavenErrorMessage']:\n",
    "        return row['mavenErrorMessage']\n",
    "    else:\n",
    "        return np.nan\n",
    "\n",
    "url_poms_repos = all_poms_repos.copy()\n",
    "urls_with_errors = url_poms_repos.dropna(subset=['mavenErrorMessage', 'url_repo'], inplace=False).copy()\n",
    "urls_with_errors['error_message_with_url'] = urls_with_errors.apply(check_url_in_error, axis=1)\n",
    "\n",
    "# Percentage of errors containing repo url \n",
    "packages_with_url_as_error = urls_with_errors.dropna(subset=['error_message_with_url'], inplace=False)\n",
    "deduplicated_packages = packages_with_url_as_error.drop_duplicates(subset=['groupId', 'artifactId', 'version'])\n",
    "\n",
    "percentage_packages_with_url_as_error = len(deduplicated_packages) / len(all_poms_repos) * 100\n",
    "print(f\"Percentage of packages with repository URL in error message: {percentage_packages_with_url_as_error}%\")"
   ]
  },
  {
   "cell_type": "markdown",
   "id": "c42ffa00eac697b1",
   "metadata": {},
   "source": [
    "# Testing availability of repository URLs"
   ]
  },
  {
   "cell_type": "code",
   "execution_count": 16,
   "id": "1ce936bc934950dc",
   "metadata": {},
   "outputs": [],
   "source": [
    "import requests\n",
    "\n",
    "# Initialize a cache dictionary to store URL status codes\n",
    "url_cache = {}\n",
    "\n",
    "# Function to check URL availability and use cache\n",
    "def check_url_availability(url):\n",
    "    if url in url_cache:\n",
    "        return url_cache[url]\n",
    "    try:\n",
    "        response = requests.get(url, timeout=5)\n",
    "        status_code = response.status_code\n",
    "        # if status code is redirect, get the status code of the redirected url\n",
    "        if status_code == 301 or status_code == 302 or status_code == 307:\n",
    "            status_code = requests.get(response.url, timeout=5).status_code\n",
    "        url_cache[url] = status_code  # Cache the result        \n",
    "        return status_code\n",
    "    except requests.exceptions.RequestException:\n",
    "        return None\n"
   ]
  },
  {
   "cell_type": "code",
   "execution_count": 17,
   "id": "ba881fb8a53c5820",
   "metadata": {},
   "outputs": [
    {
     "name": "stdout",
     "output_type": "stream",
     "text": [
      "Total Percentage of 200 Status Codes: 30.1%\n",
      "Total Percentage of Other Status Codes: 69.9%\n"
     ]
    }
   ],
   "source": [
    "# Strip right of / and get unique urls\n",
    "all_poms_repos_copy = all_poms_repos.copy()\n",
    "all_poms_repos_copy['url_repo'] = all_poms_repos_copy['url_repo'].str.rstrip('/')\n",
    "unique_urls_repos = all_poms_repos_copy.drop_duplicates(subset=['url_repo'], keep='first').copy()\n",
    "\n",
    "# Apply the function to each row and create a new 'stillAvailable' column\n",
    "unique_urls_repos['stillAvailable'] = unique_urls_repos['url_repo'].apply(check_url_availability)\n",
    "\n",
    "# Classify NaN values as timeouts\n",
    "unique_urls_repos['stillAvailable'] = unique_urls_repos['stillAvailable'].fillna('Timeout')\n",
    "\n",
    "# Calculate the percentage of 200 status codes\n",
    "total_percentage_200 = (unique_urls_repos['stillAvailable'] == 200).mean() * 100\n",
    "\n",
    "# Calculate the percentage of other status codes\n",
    "total_percentage_other = 100 - total_percentage_200\n",
    "\n",
    "\n",
    "# Step 5: Print the percentages\n",
    "print(f'Total Percentage of 200 Status Codes: {total_percentage_200:.1f}%')\n",
    "print(f'Total Percentage of Other Status Codes: {total_percentage_other:.1f}%')"
   ]
  },
  {
   "cell_type": "code",
   "execution_count": 18,
   "id": "f1ab2997",
   "metadata": {},
   "outputs": [
    {
     "name": "stdout",
     "output_type": "stream",
     "text": [
      "stillAvailable\n",
      "200        30.129125\n",
      "404        26.255380\n",
      "Timeout    24.318508\n",
      "400         8.249641\n",
      "403         4.304161\n",
      "401         3.515065\n",
      "405         1.076040\n",
      "502         0.573888\n",
      "410         0.502152\n",
      "503         0.502152\n",
      "501         0.358680\n",
      "500         0.071736\n",
      "526         0.071736\n",
      "203         0.071736\n",
      "Name: proportion, dtype: float64\n"
     ]
    },
    {
     "data": {
      "image/png": "[encoded data removed]",
      "text/plain": [
       "<Figure size 350x250 with 1 Axes>"
      ]
     },
     "metadata": {},
     "output_type": "display_data"
    }
   ],
   "source": [
    "\n",
    "# Step 2: Group by 'stillAvailable' values and calculate percentages\n",
    "unique_urls_repos['stillAvailable'] = unique_urls_repos['stillAvailable'].apply(lambda x: int(x) if x != 'Timeout' else x)\n",
    "availability_counts = unique_urls_repos['stillAvailable'].value_counts(normalize=True) * 100\n",
    "\n",
    "print(availability_counts)\n",
    "availability_counts = availability_counts[availability_counts > 1]\n",
    "\n",
    "# Step 3: Plot the percentages\n",
    "\n",
    "# tilt ticks\n",
    "plt.figure(figsize=(3.5, 2.5))\n",
    "\n",
    "#bar plot with sns\n",
    "bars = sns.barplot(x=availability_counts.index, y=availability_counts.values, palette='viridis')\n",
    "\n",
    "plt.ylim(0, 1.1 * max(availability_counts.values))\n",
    "\n",
    "ax = plt.gca()  # Get the current Axes instance\n",
    "\n",
    "# percentage on top of bar\n",
    "for bar in bars.patches:\n",
    "    yval = bar.get_height()\n",
    "    plt.text(bar.get_x() + bar.get_width()/2, yval + 0.05, f'{yval:.2f}%', ha='center', va='bottom', fontsize=6)\n",
    "\n",
    "plt.xlabel('Reponses from Repository urls', fontsize=8)\n",
    "plt.ylabel('Percentage of unique urls', fontsize=8)\n",
    "plt.xticks(fontsize=8, rotation=45, horizontalalignment='center')\n",
    "plt.yticks(fontsize=8)\n",
    "plt.show()"
   ]
  },
  {
   "cell_type": "code",
   "execution_count": 33,
   "id": "cdbe9158b4523cf3",
   "metadata": {},
   "outputs": [
    {
     "data": {
      "image/png": "[encoded data removed]",
      "text/plain": [
       "<Figure size 350x300 with 1 Axes>"
      ]
     },
     "metadata": {},
     "output_type": "display_data"
    }
   ],
   "source": [
    "# Merge the dataframes on 'url_repo'\n",
    "all_poms_repos_copy = all_poms_repos.copy()\n",
    "merged_df = pd.merge(all_poms_repos_copy, unique_urls_repos[['url_repo', 'stillAvailable']], on='url_repo', how='left')\n",
    "\n",
    "# Convert the 'releaseDate' column to datetime\n",
    "merged_df['releaseDate'] = pd.to_datetime(merged_df['releaseDate'])\n",
    "\n",
    "# Extract the year from 'releaseDate'\n",
    "merged_df['year'] = merged_df['releaseDate'].dt.year\n",
    "\n",
    "# Group by year\n",
    "grouped = merged_df.groupby('year')\n",
    "\n",
    "# Initialize a dictionary to store the percentage of unreachable URLs per year\n",
    "unreachable_percentage_per_year = {}\n",
    "\n",
    "# Calculate the percentage of unreachable URLs per year\n",
    "for year, group in grouped:\n",
    "    total_urls = len(group)\n",
    "    unreachable_urls = len(group[group['stillAvailable'] != 200])\n",
    "    unreachable_percentage = (unreachable_urls / total_urls) * 100 if total_urls > 0 else 0\n",
    "    unreachable_percentage_per_year[year] = unreachable_percentage\n",
    "\n",
    "\n",
    "# Plotting\n",
    "plt.figure(figsize=(3.5, 3))\n",
    "plt.xticks(fontsize=8)\n",
    "plt.yticks(fontsize=8)\n",
    "plt.xticks(list(unreachable_percentage_per_year.keys()), fontsize=8)\n",
    "plt.xticks(rotation=45, horizontalalignment='right')\n",
    "plt.plot(list(unreachable_percentage_per_year.keys()), list(unreachable_percentage_per_year.values()), marker='o', color='#492c68',)\n",
    "plt.xlabel('Year', fontsize=8)\n",
    "plt.ylabel('Percentage of Unreachable URLs (%)', fontsize=8)\n",
    "plt.show()"
   ]
  },
  {
   "cell_type": "markdown",
   "id": "1b8aeaf8156001da",
   "metadata": {},
   "source": [
    "## Http vs Https"
   ]
  },
  {
   "cell_type": "code",
   "execution_count": 34,
   "id": "27346b66d5fd779f",
   "metadata": {},
   "outputs": [
    {
     "data": {
      "image/png": "[encoded data removed]",
      "text/plain": [
       "<Figure size 350x200 with 1 Axes>"
      ]
     },
     "metadata": {},
     "output_type": "display_data"
    }
   ],
   "source": [
    "updated_poms_repos_df = all_poms_repos\n",
    "updated_poms_repos_df['releaseYear'] = pd.to_datetime(updated_poms_repos_df['releaseDate']).dt.year\n",
    "\n",
    "# Filtering data for the years 2015 to 2023\n",
    "filtered_years_df = updated_poms_repos_df[(updated_poms_repos_df['releaseYear'] >= 2016) & (updated_poms_repos_df['releaseYear'] <= 2023)]\n",
    "\n",
    "# Categorizing the URL type with the adjusted criteria, handling NaN or non-string values\n",
    "filtered_years_df['url_type'] = filtered_years_df['url_repo'].apply(\n",
    "    lambda x: 'https' if isinstance(x, str) and 'https://' in x else ('http' if isinstance(x, str) and 'http://' in x else 'other')\n",
    ")\n",
    "\n",
    "# Counting the usage of HTTP, HTTPS, and other URLs per year\n",
    "http_https_other_counts = filtered_years_df.groupby(['releaseYear', 'url_type']).size().unstack(fill_value=0)\n",
    "\n",
    "# Converting counts to percentages of the total for each year\n",
    "http_https_other_percentages = http_https_other_counts.div(http_https_other_counts.sum(axis=1), axis=0) * 100\n",
    "\n",
    "# Remove other from plot (these were urls that that did not mention http or https protocol)\n",
    "http_https_other_percentages = http_https_other_percentages.drop(columns=['other'])\n",
    "\n",
    "# Plotting\n",
    "plt.figure(figsize=(3.5, 2))\n",
    "plt.plot(http_https_other_percentages.index, http_https_other_percentages['http'], marker='o', color='#492e6b', label='HTTP')\n",
    "plt.plot(http_https_other_percentages.index, http_https_other_percentages['https'], marker='o', color='#405f82', label='HTTPS')\n",
    "plt.xticks(fontsize=8)\n",
    "plt.yticks(fontsize=8)\n",
    "plt.xlabel('Year', fontsize=8)\n",
    "plt.ylabel('Percentage of Total URLs', fontsize=8)\n",
    "plt.xticks(http_https_other_percentages.index, rotation=45)\n",
    "plt.legend(title='URL Type')\n",
    "plt.show()"
   ]
  },
  {
   "cell_type": "markdown",
   "id": "11ac50854009c198",
   "metadata": {},
   "source": [
    "# Repository URL and Id Analysis"
   ]
  },
  {
   "cell_type": "code",
   "execution_count": 35,
   "id": "832199287f1e4bd0",
   "metadata": {},
   "outputs": [
    {
     "data": {
      "image/png": "[encoded data removed]",
      "text/plain": [
       "<Figure size 350x300 with 1 Axes>"
      ]
     },
     "metadata": {},
     "output_type": "display_data"
    },
    {
     "name": "stdout",
     "output_type": "stream",
     "text": [
      "Correlation: 0.6405\n",
      "p-value: 0.087\n"
     ]
    }
   ],
   "source": [
    "# Grouping by year and id_repo, counting unique URLs per id_repo\n",
    "poms_repos_df = all_poms_repos\n",
    "poms_repos_df['url_repo'] = poms_repos_df['url_repo'].str.rstrip('/')\n",
    "poms_repos_df['releaseYear'] = pd.to_datetime(poms_repos_df['releaseDate']).dt.year\n",
    "unique_urls_per_id_year = poms_repos_df.groupby(['releaseYear', 'id_repo'])['url_repo'].nunique()\n",
    "\n",
    "# Finding the ids with at least two different urls (collisions)\n",
    "collision_ids_per_year = unique_urls_per_id_year[unique_urls_per_id_year > 1]\n",
    "\n",
    "# Counting total ids and collision ids per year\n",
    "total_ids_per_year = poms_repos_df.groupby('releaseYear')['id_repo'].nunique()\n",
    "collision_count_per_year = collision_ids_per_year.groupby(level=0).count()\n",
    "\n",
    "# Calculating the percentage of ids with collisions per year\n",
    "collision_percentage_per_year = (collision_count_per_year / total_ids_per_year) * 100\n",
    "\n",
    "# Plotting\n",
    "plt.figure(figsize=(3.5, 3))\n",
    "plt.subplots_adjust(bottom=0.2)\n",
    "bars = sns.barplot(x=collision_percentage_per_year.index, y=collision_percentage_per_year.values, palette='viridis')\n",
    "\n",
    "for bar in bars.patches:\n",
    "    yval = bar.get_height()\n",
    "    plt.text(bar.get_x() + bar.get_width()/2, yval + 0.5, f'{yval:.2f}%', ha='center', va='bottom', fontsize=6)\n",
    "plt.ylim(0, 1.2 * max(collision_percentage_per_year.values))\n",
    "plt.xticks(rotation=45, horizontalalignment='right')\n",
    "plt.xticks(fontsize=8)\n",
    "plt.yticks(fontsize=8)\n",
    "plt.xlabel('Year', fontsize=8)\n",
    "plt.ylabel('Percentage of Collisions', fontsize=8)\n",
    "plt.show()\n",
    "\n",
    "correlation, p_value = pearsonr(collision_percentage_per_year.index, collision_percentage_per_year.values)\n",
    "print(f'Correlation: {correlation:.4f}' + '\\n' + f'p-value: {p_value:.3f}')"
   ]
  },
  {
   "cell_type": "code",
   "execution_count": 36,
   "id": "fcf1ed8854a75940",
   "metadata": {},
   "outputs": [
    {
     "name": "stdout",
     "output_type": "stream",
     "text": [
      "Percentage of repositories with collisions: 1.72%\n",
      "Percentage of unique repository urls with collisions: 20.75%\n"
     ]
    }
   ],
   "source": [
    "poms_repos_df = all_poms_repos.copy()\n",
    "# Strip right of / and get unique urls\n",
    "poms_repos_df['url_repo'] = poms_repos_df['url_repo'].str.rstrip('/')\n",
    "# Group by 'url_repo' and calculate the number of unique 'id_repo' for each URL\n",
    "unique_ids_per_url = poms_repos_df.groupby('url_repo')['id_repo'].nunique()\n",
    "\n",
    "# Filter out the URLs that have only one unique 'id_repo' (i.e., no collisions)\n",
    "url_collisions = unique_ids_per_url[unique_ids_per_url > 1]\n",
    "\n",
    "print(f\"Percentage of repositories with collisions: {(len(url_collisions) / len(poms_repos_df)) * 100:.2f}%\")\n",
    "print(f\"Percentage of unique repository urls with collisions: {(len(url_collisions) / len(unique_ids_per_url)) * 100:.2f}%\")"
   ]
  },
  {
   "cell_type": "code",
   "execution_count": 37,
   "id": "ea3e245faa8739e",
   "metadata": {},
   "outputs": [
    {
     "name": "stdout",
     "output_type": "stream",
     "text": [
      "Percentage of repositories with collisions: 1.99%\n",
      "Percentage of unique repository ids with collisions: 19.31%\n"
     ]
    }
   ],
   "source": [
    "poms_repos_df = all_poms_repos.copy()\n",
    "# Strip right of / and get unique urls\n",
    "poms_repos_df['url_repo'] = poms_repos_df['url_repo'].str.rstrip('/')\n",
    "unique_urls_per_id = poms_repos_df.groupby('id_repo')['url_repo'].nunique()\n",
    "\n",
    "id_collisions = unique_urls_per_id[unique_urls_per_id > 1]\n",
    "\n",
    "\n",
    "print(f\"Percentage of repositories with collisions: {(len(id_collisions) / len(poms_repos_df)) * 100:.2f}%\")\n",
    "print(f\"Percentage of unique repository ids with collisions: {(len(id_collisions) / len(unique_urls_per_id)) * 100:.2f}%\")"
   ]
  },
  {
   "cell_type": "code",
   "execution_count": 20,
   "id": "dec27734",
   "metadata": {},
   "outputs": [
    {
     "data": {
      "text/html": [
       "<div>\n",
       "<style scoped>\n",
       "    .dataframe tbody tr th:only-of-type {\n",
       "        vertical-align: middle;\n",
       "    }\n",
       "\n",
       "    .dataframe tbody tr th {\n",
       "        vertical-align: top;\n",
       "    }\n",
       "\n",
       "    .dataframe thead th {\n",
       "        text-align: right;\n",
       "    }\n",
       "</style>\n",
       "<table border=\"1\" class=\"dataframe\">\n",
       "  <thead>\n",
       "    <tr style=\"text-align: right;\">\n",
       "      <th></th>\n",
       "      <th>url_repo</th>\n",
       "      <th>frequency</th>\n",
       "      <th>unique_ids</th>\n",
       "    </tr>\n",
       "  </thead>\n",
       "  <tbody>\n",
       "    <tr>\n",
       "      <th>0</th>\n",
       "      <td>https://oss.sonatype.org/content/repositories/...</td>\n",
       "      <td>1760</td>\n",
       "      <td>97</td>\n",
       "    </tr>\n",
       "    <tr>\n",
       "      <th>1</th>\n",
       "      <td>https://jitpack.io</td>\n",
       "      <td>741</td>\n",
       "      <td>2</td>\n",
       "    </tr>\n",
       "    <tr>\n",
       "      <th>2</th>\n",
       "      <td>https://repo1.maven.org/maven2</td>\n",
       "      <td>649</td>\n",
       "      <td>26</td>\n",
       "    </tr>\n",
       "    <tr>\n",
       "      <th>3</th>\n",
       "      <td>https://build.shibboleth.net/nexus/content/rep...</td>\n",
       "      <td>539</td>\n",
       "      <td>7</td>\n",
       "    </tr>\n",
       "    <tr>\n",
       "      <th>4</th>\n",
       "      <td>https://oss.sonatype.org/content/repositories/...</td>\n",
       "      <td>469</td>\n",
       "      <td>39</td>\n",
       "    </tr>\n",
       "    <tr>\n",
       "      <th>5</th>\n",
       "      <td>https://jcenter.bintray.com</td>\n",
       "      <td>418</td>\n",
       "      <td>18</td>\n",
       "    </tr>\n",
       "    <tr>\n",
       "      <th>6</th>\n",
       "      <td>https://repo.spring.io/milestone</td>\n",
       "      <td>412</td>\n",
       "      <td>10</td>\n",
       "    </tr>\n",
       "    <tr>\n",
       "      <th>7</th>\n",
       "      <td>https://files.couchbase.com/maven2</td>\n",
       "      <td>388</td>\n",
       "      <td>2</td>\n",
       "    </tr>\n",
       "    <tr>\n",
       "      <th>8</th>\n",
       "      <td>https://repo.spring.io/snapshot</td>\n",
       "      <td>378</td>\n",
       "      <td>3</td>\n",
       "    </tr>\n",
       "    <tr>\n",
       "      <th>9</th>\n",
       "      <td>https://repo.maven.apache.org/maven2</td>\n",
       "      <td>352</td>\n",
       "      <td>18</td>\n",
       "    </tr>\n",
       "  </tbody>\n",
       "</table>\n",
       "</div>"
      ],
      "text/plain": [
       "                                            url_repo  frequency  unique_ids\n",
       "0  https://oss.sonatype.org/content/repositories/...       1760          97\n",
       "1                                 https://jitpack.io        741           2\n",
       "2                     https://repo1.maven.org/maven2        649          26\n",
       "3  https://build.shibboleth.net/nexus/content/rep...        539           7\n",
       "4  https://oss.sonatype.org/content/repositories/...        469          39\n",
       "5                        https://jcenter.bintray.com        418          18\n",
       "6                   https://repo.spring.io/milestone        412          10\n",
       "7                 https://files.couchbase.com/maven2        388           2\n",
       "8                    https://repo.spring.io/snapshot        378           3\n",
       "9               https://repo.maven.apache.org/maven2        352          18"
      ]
     },
     "execution_count": 20,
     "metadata": {},
     "output_type": "execute_result"
    }
   ],
   "source": [
    "poms_repos_df = all_poms_repos.copy()\n",
    "# Removing trailing slashes from the urls\n",
    "poms_repos_df['url_repo'] = poms_repos_df['url_repo'].str.rstrip('/')\n",
    "# Group by 'url_repo' and calculate the number of unique 'id_repo' for each URL\n",
    "unique_ids_per_url = poms_repos_df.groupby('url_repo')['id_repo'].nunique()\n",
    "\n",
    "# Count the frequency of each URL\n",
    "url_counts = poms_repos_df['url_repo'].value_counts()\n",
    "\n",
    "# Convert the Series to a DataFrame\n",
    "url_counts_df = url_counts.reset_index()\n",
    "\n",
    "# Rename the columns\n",
    "url_counts_df.columns = ['url_repo', 'frequency']\n",
    "\n",
    "# Merge the DataFrame with the Series on 'url_repo'\n",
    "result_df = pd.merge(url_counts_df, unique_ids_per_url, on='url_repo')\n",
    "\n",
    "# Rename the columns\n",
    "result_df.columns = ['url_repo', 'frequency', 'unique_ids']\n",
    "\n",
    "result_df.head(10)"
   ]
  },
  {
   "cell_type": "code",
   "execution_count": 21,
   "id": "a8f63209",
   "metadata": {},
   "outputs": [
    {
     "data": {
      "text/plain": [
       "1.704235463029433"
      ]
     },
     "execution_count": 21,
     "metadata": {},
     "output_type": "execute_result"
    }
   ],
   "source": [
    "average_unique_ids = result_df['unique_ids'].mean()\n",
    "average_unique_ids"
   ]
  },
  {
   "cell_type": "code",
   "execution_count": 22,
   "id": "6f4fda0f",
   "metadata": {},
   "outputs": [
    {
     "data": {
      "text/html": [
       "<div>\n",
       "<style scoped>\n",
       "    .dataframe tbody tr th:only-of-type {\n",
       "        vertical-align: middle;\n",
       "    }\n",
       "\n",
       "    .dataframe tbody tr th {\n",
       "        vertical-align: top;\n",
       "    }\n",
       "\n",
       "    .dataframe thead th {\n",
       "        text-align: right;\n",
       "    }\n",
       "</style>\n",
       "<table border=\"1\" class=\"dataframe\">\n",
       "  <thead>\n",
       "    <tr style=\"text-align: right;\">\n",
       "      <th></th>\n",
       "      <th>id_repo</th>\n",
       "      <th>frequency</th>\n",
       "      <th>unique_urls</th>\n",
       "    </tr>\n",
       "  </thead>\n",
       "  <tbody>\n",
       "    <tr>\n",
       "      <th>0</th>\n",
       "      <td>shib-release</td>\n",
       "      <td>576</td>\n",
       "      <td>3</td>\n",
       "    </tr>\n",
       "    <tr>\n",
       "      <th>1</th>\n",
       "      <td>jitpack</td>\n",
       "      <td>569</td>\n",
       "      <td>1</td>\n",
       "    </tr>\n",
       "    <tr>\n",
       "      <th>2</th>\n",
       "      <td>central</td>\n",
       "      <td>555</td>\n",
       "      <td>31</td>\n",
       "    </tr>\n",
       "    <tr>\n",
       "      <th>3</th>\n",
       "      <td>couchbase</td>\n",
       "      <td>550</td>\n",
       "      <td>2</td>\n",
       "    </tr>\n",
       "    <tr>\n",
       "      <th>4</th>\n",
       "      <td>maven-central</td>\n",
       "      <td>449</td>\n",
       "      <td>7</td>\n",
       "    </tr>\n",
       "    <tr>\n",
       "      <th>5</th>\n",
       "      <td>spring-milestones</td>\n",
       "      <td>444</td>\n",
       "      <td>8</td>\n",
       "    </tr>\n",
       "    <tr>\n",
       "      <th>6</th>\n",
       "      <td>sonatype-nexus-snapshots</td>\n",
       "      <td>440</td>\n",
       "      <td>11</td>\n",
       "    </tr>\n",
       "    <tr>\n",
       "      <th>7</th>\n",
       "      <td>jcenter</td>\n",
       "      <td>422</td>\n",
       "      <td>4</td>\n",
       "    </tr>\n",
       "    <tr>\n",
       "      <th>8</th>\n",
       "      <td>atlassian-public</td>\n",
       "      <td>351</td>\n",
       "      <td>5</td>\n",
       "    </tr>\n",
       "    <tr>\n",
       "      <th>9</th>\n",
       "      <td>spring-snapshots</td>\n",
       "      <td>347</td>\n",
       "      <td>6</td>\n",
       "    </tr>\n",
       "  </tbody>\n",
       "</table>\n",
       "</div>"
      ],
      "text/plain": [
       "                    id_repo  frequency  unique_urls\n",
       "0              shib-release        576            3\n",
       "1                   jitpack        569            1\n",
       "2                   central        555           31\n",
       "3                 couchbase        550            2\n",
       "4             maven-central        449            7\n",
       "5         spring-milestones        444            8\n",
       "6  sonatype-nexus-snapshots        440           11\n",
       "7                   jcenter        422            4\n",
       "8          atlassian-public        351            5\n",
       "9          spring-snapshots        347            6"
      ]
     },
     "execution_count": 22,
     "metadata": {},
     "output_type": "execute_result"
    }
   ],
   "source": [
    "# Group by 'id_repo' and calculate the number of unique 'url_repo' for each id\n",
    "unique_urls_per_id = poms_repos_df.groupby('id_repo')['url_repo'].nunique()\n",
    "\n",
    "# Count the frequency of each id\n",
    "id_counts = poms_repos_df['id_repo'].value_counts()\n",
    "\n",
    "# Convert the Series to a DataFrame\n",
    "id_counts_df = id_counts.reset_index()\n",
    "\n",
    "# Rename the columns\n",
    "id_counts_df.columns = ['id_repo', 'frequency']\n",
    "\n",
    "# Merge the DataFrame with the Series on 'id_repo'\n",
    "result_df = pd.merge(id_counts_df, unique_urls_per_id, on='id_repo')\n",
    "\n",
    "# Rename the columns\n",
    "result_df.columns = ['id_repo', 'frequency', 'unique_urls']\n",
    "\n",
    "# Sort by 'frequency' in descending order and get the top 10 rows\n",
    "result_df = result_df.sort_values(by='frequency', ascending=False).head(10)\n",
    "\n",
    "result_df.head(10)"
   ]
  },
  {
   "cell_type": "code",
   "execution_count": 23,
   "id": "8ce6d4db",
   "metadata": {},
   "outputs": [
    {
     "data": {
      "text/plain": [
       "7.8"
      ]
     },
     "execution_count": 23,
     "metadata": {},
     "output_type": "execute_result"
    }
   ],
   "source": [
    "average_unique_urls = result_df['unique_urls'].mean()\n",
    "average_unique_urls"
   ]
  }
 ],
 "metadata": {
  "kernelspec": {
   "display_name": "Python 3 (ipykernel)",
   "language": "python",
   "name": "python3"
  },
  "language_info": {
   "codemirror_mode": {
    "name": "ipython",
    "version": 3
   },
   "file_extension": ".py",
   "mimetype": "text/x-python",
   "name": "python",
   "nbconvert_exporter": "python",
   "pygments_lexer": "ipython3",
   "version": "3.11.5"
  }
 },
 "nbformat": 4,
 "nbformat_minor": 5
}
